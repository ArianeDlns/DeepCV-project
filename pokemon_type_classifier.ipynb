{
 "cells": [
  {
   "cell_type": "code",
   "execution_count": 1,
   "metadata": {},
   "outputs": [],
   "source": [
    "from tensorflow import keras\n",
    "from keras.models import Sequential\n",
    "from keras.layers import Dense,Convolution2D,MaxPooling2D,Flatten,Conv2D,Dropout\n",
    "from keras.preprocessing.image import ImageDataGenerator\n",
    "import pandas as pd\n",
    "import numpy as np\n",
    "import os\n",
    "import matplotlib.pyplot as plt\n",
    "from PIL import Image\n",
    "import tensorflow as tf\n",
    "import matplotlib.pyplot as plt"
   ]
  },
  {
   "cell_type": "code",
   "execution_count": 2,
   "metadata": {},
   "outputs": [],
   "source": [
    "NUM_CLASSES = 18\n",
    "\n",
    "IMAGE_SIZE = 120\n",
    "\n",
    "DATASET_PATH = \"data/images/pokemon_per_type\""
   ]
  },
  {
   "cell_type": "code",
   "execution_count": 3,
   "metadata": {},
   "outputs": [],
   "source": [
    "# Creating the model\n",
    "model=Sequential()\n",
    "model.add(Convolution2D(32,(7,7),input_shape=(IMAGE_SIZE,IMAGE_SIZE,3),activation='relu'))\n",
    "model.add(MaxPooling2D(pool_size=(3,3)))\n",
    "model.add(Convolution2D(64,(4,4),input_shape=(38,38,32),activation='relu'))\n",
    "model.add(MaxPooling2D(pool_size=(2,2)))\n",
    "model.add(Flatten())\n",
    "model.add(Dense(3000,activation='relu'))\n",
    "model.add(Dense(units=NUM_CLASSES,activation='softmax'))"
   ]
  },
  {
   "cell_type": "code",
   "execution_count": 6,
   "metadata": {},
   "outputs": [
    {
     "name": "stdout",
     "output_type": "stream",
     "text": [
      "Model: \"sequential\"\n",
      "_________________________________________________________________\n",
      " Layer (type)                Output Shape              Param #   \n",
      "=================================================================\n",
      " conv2d (Conv2D)             (None, 114, 114, 32)      4736      \n",
      "                                                                 \n",
      " max_pooling2d (MaxPooling2D  (None, 38, 38, 32)       0         \n",
      " )                                                               \n",
      "                                                                 \n",
      " conv2d_1 (Conv2D)           (None, 35, 35, 64)        32832     \n",
      "                                                                 \n",
      " max_pooling2d_1 (MaxPooling  (None, 17, 17, 64)       0         \n",
      " 2D)                                                             \n",
      "                                                                 \n",
      " flatten (Flatten)           (None, 18496)             0         \n",
      "                                                                 \n",
      " dense (Dense)               (None, 3000)              55491000  \n",
      "                                                                 \n",
      " dense_1 (Dense)             (None, 18)                54018     \n",
      "                                                                 \n",
      "=================================================================\n",
      "Total params: 55,582,586\n",
      "Trainable params: 55,582,586\n",
      "Non-trainable params: 0\n",
      "_________________________________________________________________\n"
     ]
    }
   ],
   "source": [
    "model.summary()"
   ]
  },
  {
   "cell_type": "code",
   "execution_count": 4,
   "metadata": {},
   "outputs": [],
   "source": [
    "model.compile(optimizer= 'adam', loss= 'categorical_crossentropy', metrics= ['accuracy'])\n"
   ]
  },
  {
   "cell_type": "code",
   "execution_count": 5,
   "metadata": {},
   "outputs": [
    {
     "name": "stdout",
     "output_type": "stream",
     "text": [
      "Found 944 images belonging to 18 classes.\n",
      "Found 270 images belonging to 18 classes.\n"
     ]
    }
   ],
   "source": [
    "train_datagen = ImageDataGenerator(rescale = 1./255, \n",
    "                                   shear_range = 0.2, \n",
    "                                   zoom_range = 0.2, \n",
    "                                   rotation_range = 20,)\n",
    "\n",
    "test_datagen = ImageDataGenerator(rescale = 1./255)\n",
    "\n",
    "training_set = train_datagen.flow_from_directory(DATASET_PATH + '/train', \n",
    "                                                    target_size = (IMAGE_SIZE, IMAGE_SIZE), \n",
    "                                                    batch_size = 32)\n",
    "test_set = test_datagen.flow_from_directory(DATASET_PATH + '/val',\n",
    "                                                target_size = (IMAGE_SIZE, IMAGE_SIZE),\n",
    "                                                 batch_size = 32)"
   ]
  },
  {
   "cell_type": "code",
   "execution_count": null,
   "metadata": {},
   "outputs": [],
   "source": [
    "fitted_model = model.fit(training_set,\n",
    "                        steps_per_epoch = 10,\n",
    "                        epochs = 50,\n",
    "                        validation_data = test_set,\n",
    "                        shuffle = 0,\n",
    "                        validation_steps = 2)"
   ]
  },
  {
   "cell_type": "code",
   "execution_count": null,
   "metadata": {},
   "outputs": [],
   "source": [
    "plt.figure()\n",
    "plt.plot([i for i in range(100)],fitted_model.history['accuracy'], label = \"Train Accuracy\")\n",
    "plt.plot([i for i in range(100)],fitted_model.history['val_accuracy'], label = \"Val Accuracy\")\n",
    "plt.legend()"
   ]
  },
  {
   "cell_type": "code",
   "execution_count": null,
   "metadata": {},
   "outputs": [],
   "source": [
    "plt.figure()\n",
    "plt.plot([i for i in range(100)],fitted_model.history['loss'], label = \"Loss\")\n",
    "plt.plot([i for i in range(100)],fitted_model.history['val_loss'], label = \"Loss\")\n",
    "plt.legend()"
   ]
  },
  {
   "cell_type": "code",
   "execution_count": null,
   "metadata": {},
   "outputs": [],
   "source": [
    "def pred(image_path):\n",
    "    image = Image.open(image_path)\n",
    "    image = image.resize((128,128))\n",
    "    x = np.array(image)\n",
    "    x = np.expand_dims(x,axis=0)\n",
    "    c = np.argmax(model.predict(x), axis=1)\n",
    "    l = os.listdir(DATASET_PATH + '/train')\n",
    "    l.sort()\n",
    "    return l[c[0]]\n",
    "\n",
    "\n",
    "pred(DATASET_PATH + '/Dragon/dialga.png')"
   ]
  }
 ],
 "metadata": {
  "interpreter": {
   "hash": "877e635d77654b4bbaf40ac73f166c6702f150ac966450346b4e10ac33844dc6"
  },
  "kernelspec": {
   "display_name": "Python 3.9.7 64-bit",
   "language": "python",
   "name": "python3"
  },
  "language_info": {
   "codemirror_mode": {
    "name": "ipython",
    "version": 3
   },
   "file_extension": ".py",
   "mimetype": "text/x-python",
   "name": "python",
   "nbconvert_exporter": "python",
   "pygments_lexer": "ipython3",
   "version": "3.9.7"
  },
  "orig_nbformat": 4
 },
 "nbformat": 4,
 "nbformat_minor": 2
}
