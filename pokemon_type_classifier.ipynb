{
 "cells": [
  {
   "cell_type": "code",
   "execution_count": 41,
   "metadata": {},
   "outputs": [],
   "source": [
    "from tensorflow import keras\n",
    "from keras.models import Sequential\n",
    "from keras.layers import Dense,Convolution2D,MaxPooling2D,Flatten,Conv2D,Dropout\n",
    "from keras.preprocessing.image import ImageDataGenerator\n",
    "import pandas as pd\n",
    "import numpy as np\n",
    "import os\n",
    "import matplotlib.pyplot as plt\n",
    "from PIL import Image\n",
    "import tensorflow as tf\n",
    "import matplotlib.pyplot as plt"
   ]
  },
  {
   "cell_type": "code",
   "execution_count": 42,
   "metadata": {},
   "outputs": [],
   "source": [
    "NUM_CLASSES = 18\n",
    "\n",
    "IMAGE_SIZE = 120\n",
    "\n",
    "DATASET_PATH = \"data/images/pokemon_per_type\""
   ]
  },
  {
   "cell_type": "code",
   "execution_count": 43,
   "metadata": {},
   "outputs": [],
   "source": [
    "# Creating the model\n",
    "model=Sequential()\n",
    "model.add(Convolution2D(32,(5,5),input_shape=(IMAGE_SIZE,IMAGE_SIZE,3),activation='relu'))\n",
    "model.add(MaxPooling2D(pool_size=(2,2)))\n",
    "model.add(Convolution2D(64,(3,3),input_shape=(58,58,32),activation='relu'))\n",
    "model.add(MaxPooling2D(pool_size=(2,2)))\n",
    "model.add(Flatten())\n",
    "model.add(Dense(3000,activation='relu'))\n",
    "model.add(Dense(units=NUM_CLASSES,activation='softmax'))"
   ]
  },
  {
   "cell_type": "code",
   "execution_count": 44,
   "metadata": {},
   "outputs": [
    {
     "name": "stdout",
     "output_type": "stream",
     "text": [
      "Model: \"sequential_6\"\n",
      "_________________________________________________________________\n",
      " Layer (type)                Output Shape              Param #   \n",
      "=================================================================\n",
      " conv2d_12 (Conv2D)          (None, 116, 116, 32)      2432      \n",
      "                                                                 \n",
      " max_pooling2d_12 (MaxPoolin  (None, 58, 58, 32)       0         \n",
      " g2D)                                                            \n",
      "                                                                 \n",
      " conv2d_13 (Conv2D)          (None, 56, 56, 64)        18496     \n",
      "                                                                 \n",
      " max_pooling2d_13 (MaxPoolin  (None, 28, 28, 64)       0         \n",
      " g2D)                                                            \n",
      "                                                                 \n",
      " flatten_6 (Flatten)         (None, 50176)             0         \n",
      "                                                                 \n",
      " dense_12 (Dense)            (None, 3000)              150531000 \n",
      "                                                                 \n",
      " dense_13 (Dense)            (None, 18)                54018     \n",
      "                                                                 \n",
      "=================================================================\n",
      "Total params: 150,605,946\n",
      "Trainable params: 150,605,946\n",
      "Non-trainable params: 0\n",
      "_________________________________________________________________\n"
     ]
    }
   ],
   "source": [
    "model.summary()"
   ]
  },
  {
   "cell_type": "code",
   "execution_count": 45,
   "metadata": {},
   "outputs": [],
   "source": [
    "model.compile(optimizer= 'adam', loss= 'categorical_crossentropy', metrics= ['accuracy'])\n"
   ]
  },
  {
   "cell_type": "code",
   "execution_count": 46,
   "metadata": {},
   "outputs": [
    {
     "name": "stdout",
     "output_type": "stream",
     "text": [
      "Found 984 images belonging to 18 classes.\n",
      "Found 230 images belonging to 18 classes.\n"
     ]
    }
   ],
   "source": [
    "train_datagen = ImageDataGenerator(rescale = 1./255, \n",
    "                                   shear_range = 0.2, \n",
    "                                   zoom_range = 0.2, \n",
    "                                   rotation_range = 20,\n",
    "                                   horizontal_flip = True)\n",
    "\n",
    "test_datagen = ImageDataGenerator(rescale = 1./255)\n",
    "\n",
    "training_set = train_datagen.flow_from_directory(DATASET_PATH + '/train', \n",
    "                                                    target_size = (IMAGE_SIZE, IMAGE_SIZE), \n",
    "                                                    batch_size = 16)\n",
    "test_set = test_datagen.flow_from_directory(DATASET_PATH + '/val',\n",
    "                                                target_size = (IMAGE_SIZE, IMAGE_SIZE),\n",
    "                                                 batch_size = 16)"
   ]
  },
  {
   "cell_type": "code",
   "execution_count": 47,
   "metadata": {},
   "outputs": [
    {
     "name": "stdout",
     "output_type": "stream",
     "text": [
      "Epoch 1/100\n",
      "10/10 [==============================] - 129s 12s/step - loss: 15.1214 - accuracy: 0.0625 - val_loss: 2.9025 - val_accuracy: 0.1562\n",
      "Epoch 2/100\n",
      "10/10 [==============================] - 19s 2s/step - loss: 2.9591 - accuracy: 0.0812 - val_loss: 2.8942 - val_accuracy: 0.0000e+00\n",
      "Epoch 3/100\n",
      "10/10 [==============================] - 17s 2s/step - loss: 2.8684 - accuracy: 0.0812 - val_loss: 2.8172 - val_accuracy: 0.0625\n",
      "Epoch 4/100\n",
      "10/10 [==============================] - 17s 2s/step - loss: 2.8501 - accuracy: 0.0812 - val_loss: 2.8864 - val_accuracy: 0.0312\n",
      "Epoch 5/100\n",
      "10/10 [==============================] - 17s 2s/step - loss: 2.8590 - accuracy: 0.1063 - val_loss: 2.8603 - val_accuracy: 0.0625\n",
      "Epoch 6/100\n",
      "10/10 [==============================] - 27s 3s/step - loss: 2.8746 - accuracy: 0.0812 - val_loss: 2.8782 - val_accuracy: 0.1250\n",
      "Epoch 7/100\n",
      "10/10 [==============================] - 18s 2s/step - loss: 2.8697 - accuracy: 0.0500 - val_loss: 2.8548 - val_accuracy: 0.0938\n",
      "Epoch 8/100\n",
      "10/10 [==============================] - 25s 3s/step - loss: 2.8594 - accuracy: 0.1000 - val_loss: 2.8750 - val_accuracy: 0.0625\n",
      "Epoch 9/100\n",
      "10/10 [==============================] - 26s 3s/step - loss: 2.8438 - accuracy: 0.1000 - val_loss: 2.8622 - val_accuracy: 0.0938\n",
      "Epoch 10/100\n",
      "10/10 [==============================] - 19s 2s/step - loss: 2.8749 - accuracy: 0.1187 - val_loss: 2.9542 - val_accuracy: 0.0312\n",
      "Epoch 11/100\n",
      "10/10 [==============================] - 29s 3s/step - loss: 2.8325 - accuracy: 0.0812 - val_loss: 2.8023 - val_accuracy: 0.0625\n",
      "Epoch 12/100\n",
      "10/10 [==============================] - 22s 2s/step - loss: 2.7975 - accuracy: 0.1375 - val_loss: 2.9010 - val_accuracy: 0.2188\n",
      "Epoch 13/100\n",
      "10/10 [==============================] - 18s 2s/step - loss: 2.7663 - accuracy: 0.2062 - val_loss: 2.8194 - val_accuracy: 0.0938\n",
      "Epoch 14/100\n",
      "10/10 [==============================] - 17s 2s/step - loss: 2.7614 - accuracy: 0.1500 - val_loss: 2.8557 - val_accuracy: 0.0625\n",
      "Epoch 15/100\n",
      "10/10 [==============================] - 17s 2s/step - loss: 2.7956 - accuracy: 0.1562 - val_loss: 2.8840 - val_accuracy: 0.0625\n",
      "Epoch 16/100\n",
      "10/10 [==============================] - 18s 2s/step - loss: 2.8073 - accuracy: 0.1125 - val_loss: 2.8668 - val_accuracy: 0.0625\n",
      "Epoch 17/100\n",
      "10/10 [==============================] - 18s 2s/step - loss: 2.8617 - accuracy: 0.0875 - val_loss: 2.8417 - val_accuracy: 0.1562\n",
      "Epoch 18/100\n",
      "10/10 [==============================] - 19s 2s/step - loss: 2.7801 - accuracy: 0.1187 - val_loss: 2.7614 - val_accuracy: 0.1562\n",
      "Epoch 19/100\n",
      "10/10 [==============================] - 19s 2s/step - loss: 2.8260 - accuracy: 0.1250 - val_loss: 2.8075 - val_accuracy: 0.0938\n",
      "Epoch 20/100\n",
      "10/10 [==============================] - 23s 2s/step - loss: 2.7305 - accuracy: 0.1750 - val_loss: 2.8520 - val_accuracy: 0.0938\n",
      "Epoch 21/100\n",
      "10/10 [==============================] - 17s 2s/step - loss: 2.7759 - accuracy: 0.1375 - val_loss: 2.9066 - val_accuracy: 0.0625\n",
      "Epoch 22/100\n",
      "10/10 [==============================] - 16s 2s/step - loss: 2.7944 - accuracy: 0.1063 - val_loss: 2.7746 - val_accuracy: 0.0938\n",
      "Epoch 23/100\n",
      "10/10 [==============================] - 16s 2s/step - loss: 2.7345 - accuracy: 0.1500 - val_loss: 2.7019 - val_accuracy: 0.1875\n",
      "Epoch 24/100\n",
      "10/10 [==============================] - 15s 2s/step - loss: 2.7896 - accuracy: 0.1125 - val_loss: 2.9241 - val_accuracy: 0.1562\n",
      "Epoch 25/100\n",
      "10/10 [==============================] - 15s 2s/step - loss: 2.7195 - accuracy: 0.1375 - val_loss: 2.7421 - val_accuracy: 0.2188\n",
      "Epoch 26/100\n",
      "10/10 [==============================] - 15s 2s/step - loss: 2.7123 - accuracy: 0.1813 - val_loss: 2.8469 - val_accuracy: 0.0938\n",
      "Epoch 27/100\n",
      "10/10 [==============================] - 15s 2s/step - loss: 2.6655 - accuracy: 0.1937 - val_loss: 2.9988 - val_accuracy: 0.0938\n",
      "Epoch 28/100\n",
      "10/10 [==============================] - 15s 2s/step - loss: 2.7821 - accuracy: 0.1312 - val_loss: 2.7548 - val_accuracy: 0.1562\n",
      "Epoch 29/100\n",
      "10/10 [==============================] - 15s 2s/step - loss: 2.6344 - accuracy: 0.1688 - val_loss: 2.7006 - val_accuracy: 0.2500\n",
      "Epoch 30/100\n",
      "10/10 [==============================] - 16s 2s/step - loss: 2.7148 - accuracy: 0.1187 - val_loss: 2.8847 - val_accuracy: 0.0938\n",
      "Epoch 31/100\n",
      "10/10 [==============================] - 16s 2s/step - loss: 2.7697 - accuracy: 0.1562 - val_loss: 2.9892 - val_accuracy: 0.0312\n",
      "Epoch 32/100\n",
      "10/10 [==============================] - 15s 2s/step - loss: 2.6959 - accuracy: 0.1937 - val_loss: 2.7029 - val_accuracy: 0.1250\n",
      "Epoch 33/100\n",
      "10/10 [==============================] - 16s 2s/step - loss: 2.6935 - accuracy: 0.1250 - val_loss: 3.0642 - val_accuracy: 0.0938\n",
      "Epoch 34/100\n",
      "10/10 [==============================] - 15s 2s/step - loss: 2.6552 - accuracy: 0.1688 - val_loss: 3.2854 - val_accuracy: 0.0625\n",
      "Epoch 35/100\n",
      "10/10 [==============================] - 15s 2s/step - loss: 2.6532 - accuracy: 0.1562 - val_loss: 2.7171 - val_accuracy: 0.0938\n",
      "Epoch 36/100\n",
      "10/10 [==============================] - 16s 2s/step - loss: 2.7140 - accuracy: 0.1500 - val_loss: 2.6395 - val_accuracy: 0.1875\n",
      "Epoch 37/100\n",
      "10/10 [==============================] - 15s 2s/step - loss: 2.6246 - accuracy: 0.1437 - val_loss: 3.0435 - val_accuracy: 0.0625\n",
      "Epoch 38/100\n",
      "10/10 [==============================] - 16s 2s/step - loss: 2.7234 - accuracy: 0.1437 - val_loss: 2.8731 - val_accuracy: 0.0938\n",
      "Epoch 39/100\n",
      "10/10 [==============================] - 16s 2s/step - loss: 2.6781 - accuracy: 0.1750 - val_loss: 2.7970 - val_accuracy: 0.0625\n",
      "Epoch 40/100\n",
      "10/10 [==============================] - 16s 2s/step - loss: 2.6607 - accuracy: 0.1688 - val_loss: 2.7837 - val_accuracy: 0.1562\n",
      "Epoch 41/100\n",
      "10/10 [==============================] - 16s 2s/step - loss: 2.6904 - accuracy: 0.2188 - val_loss: 2.9104 - val_accuracy: 0.0312\n",
      "Epoch 42/100\n",
      "10/10 [==============================] - 15s 2s/step - loss: 2.6239 - accuracy: 0.2000 - val_loss: 2.8232 - val_accuracy: 0.1250\n",
      "Epoch 43/100\n",
      "10/10 [==============================] - 15s 2s/step - loss: 2.5917 - accuracy: 0.1937 - val_loss: 2.9965 - val_accuracy: 0.1562\n",
      "Epoch 44/100\n",
      "10/10 [==============================] - 15s 2s/step - loss: 2.6565 - accuracy: 0.1750 - val_loss: 2.9586 - val_accuracy: 0.1250\n",
      "Epoch 45/100\n",
      "10/10 [==============================] - 16s 2s/step - loss: 2.5697 - accuracy: 0.2000 - val_loss: 2.6983 - val_accuracy: 0.1562\n",
      "Epoch 46/100\n",
      "10/10 [==============================] - 15s 1s/step - loss: 2.5918 - accuracy: 0.2125 - val_loss: 2.7432 - val_accuracy: 0.1562\n",
      "Epoch 47/100\n",
      "10/10 [==============================] - 15s 1s/step - loss: 2.6081 - accuracy: 0.1937 - val_loss: 2.6591 - val_accuracy: 0.1562\n",
      "Epoch 48/100\n",
      "10/10 [==============================] - 15s 2s/step - loss: 2.6175 - accuracy: 0.1875 - val_loss: 3.1208 - val_accuracy: 0.0625\n",
      "Epoch 49/100\n",
      "10/10 [==============================] - 15s 2s/step - loss: 2.5922 - accuracy: 0.1688 - val_loss: 2.8495 - val_accuracy: 0.0938\n",
      "Epoch 50/100\n",
      "10/10 [==============================] - 15s 2s/step - loss: 2.7358 - accuracy: 0.1937 - val_loss: 2.5482 - val_accuracy: 0.2500\n",
      "Epoch 51/100\n",
      "10/10 [==============================] - 15s 2s/step - loss: 2.6145 - accuracy: 0.2188 - val_loss: 2.8077 - val_accuracy: 0.1250\n",
      "Epoch 52/100\n",
      "10/10 [==============================] - 15s 2s/step - loss: 2.5972 - accuracy: 0.1750 - val_loss: 3.1359 - val_accuracy: 0.0938\n",
      "Epoch 53/100\n",
      "10/10 [==============================] - 15s 1s/step - loss: 2.5957 - accuracy: 0.2188 - val_loss: 3.0623 - val_accuracy: 0.1562\n",
      "Epoch 54/100\n",
      "10/10 [==============================] - 15s 2s/step - loss: 2.5794 - accuracy: 0.2125 - val_loss: 2.8852 - val_accuracy: 0.1562\n",
      "Epoch 55/100\n",
      "10/10 [==============================] - 15s 2s/step - loss: 2.5132 - accuracy: 0.2688 - val_loss: 2.9236 - val_accuracy: 0.0938\n",
      "Epoch 56/100\n",
      "10/10 [==============================] - 15s 2s/step - loss: 2.5728 - accuracy: 0.1312 - val_loss: 3.0028 - val_accuracy: 0.1875\n",
      "Epoch 57/100\n",
      "10/10 [==============================] - 15s 2s/step - loss: 2.5793 - accuracy: 0.1625 - val_loss: 3.2260 - val_accuracy: 0.0938\n",
      "Epoch 58/100\n",
      "10/10 [==============================] - 15s 2s/step - loss: 2.4887 - accuracy: 0.2625 - val_loss: 2.6815 - val_accuracy: 0.1875\n",
      "Epoch 59/100\n",
      "10/10 [==============================] - 15s 2s/step - loss: 2.5659 - accuracy: 0.2062 - val_loss: 2.7296 - val_accuracy: 0.1562\n",
      "Epoch 60/100\n",
      "10/10 [==============================] - 15s 2s/step - loss: 2.5564 - accuracy: 0.2062 - val_loss: 3.1943 - val_accuracy: 0.0625\n",
      "Epoch 61/100\n",
      "10/10 [==============================] - 15s 2s/step - loss: 2.4301 - accuracy: 0.2438 - val_loss: 3.2791 - val_accuracy: 0.1250\n",
      "Epoch 62/100\n",
      "10/10 [==============================] - 15s 2s/step - loss: 2.5992 - accuracy: 0.1937 - val_loss: 2.9426 - val_accuracy: 0.1562\n",
      "Epoch 63/100\n",
      "10/10 [==============================] - 15s 2s/step - loss: 2.5603 - accuracy: 0.2125 - val_loss: 2.9221 - val_accuracy: 0.0312\n",
      "Epoch 64/100\n",
      "10/10 [==============================] - 16s 2s/step - loss: 2.5586 - accuracy: 0.1875 - val_loss: 3.7841 - val_accuracy: 0.1562\n",
      "Epoch 65/100\n",
      "10/10 [==============================] - 15s 2s/step - loss: 2.4504 - accuracy: 0.2625 - val_loss: 2.9621 - val_accuracy: 0.1875\n",
      "Epoch 66/100\n",
      "10/10 [==============================] - 15s 2s/step - loss: 2.3555 - accuracy: 0.2750 - val_loss: 2.8952 - val_accuracy: 0.1875\n",
      "Epoch 67/100\n",
      "10/10 [==============================] - 15s 1s/step - loss: 2.4502 - accuracy: 0.2375 - val_loss: 3.3841 - val_accuracy: 0.0938\n",
      "Epoch 68/100\n",
      "10/10 [==============================] - 15s 1s/step - loss: 2.4886 - accuracy: 0.2500 - val_loss: 2.9910 - val_accuracy: 0.1250\n",
      "Epoch 69/100\n",
      "10/10 [==============================] - 15s 2s/step - loss: 2.5502 - accuracy: 0.2250 - val_loss: 3.3373 - val_accuracy: 0.1250\n",
      "Epoch 70/100\n",
      "10/10 [==============================] - 15s 2s/step - loss: 2.4781 - accuracy: 0.2062 - val_loss: 2.8325 - val_accuracy: 0.1250\n",
      "Epoch 71/100\n",
      "10/10 [==============================] - 15s 2s/step - loss: 2.4673 - accuracy: 0.1937 - val_loss: 3.3242 - val_accuracy: 0.0625\n",
      "Epoch 72/100\n",
      "10/10 [==============================] - 15s 1s/step - loss: 2.4647 - accuracy: 0.2438 - val_loss: 3.2071 - val_accuracy: 0.0938\n",
      "Epoch 73/100\n",
      "10/10 [==============================] - 15s 1s/step - loss: 2.4829 - accuracy: 0.2062 - val_loss: 3.2295 - val_accuracy: 0.0938\n",
      "Epoch 74/100\n",
      "10/10 [==============================] - 15s 2s/step - loss: 2.5374 - accuracy: 0.1875 - val_loss: 3.1160 - val_accuracy: 0.1250\n",
      "Epoch 75/100\n",
      "10/10 [==============================] - 15s 2s/step - loss: 2.2920 - accuracy: 0.2625 - val_loss: 3.6815 - val_accuracy: 0.0938\n",
      "Epoch 76/100\n",
      "10/10 [==============================] - 15s 2s/step - loss: 2.3364 - accuracy: 0.2250 - val_loss: 2.7052 - val_accuracy: 0.1250\n",
      "Epoch 77/100\n",
      "10/10 [==============================] - 15s 2s/step - loss: 2.3481 - accuracy: 0.3000 - val_loss: 3.4173 - val_accuracy: 0.0625\n",
      "Epoch 78/100\n",
      "10/10 [==============================] - 16s 2s/step - loss: 2.3355 - accuracy: 0.3000 - val_loss: 3.4490 - val_accuracy: 0.0625\n",
      "Epoch 79/100\n",
      "10/10 [==============================] - 15s 2s/step - loss: 2.4495 - accuracy: 0.2625 - val_loss: 3.7396 - val_accuracy: 0.1250\n",
      "Epoch 80/100\n",
      "10/10 [==============================] - 15s 2s/step - loss: 2.5230 - accuracy: 0.1937 - val_loss: 3.7567 - val_accuracy: 0.1562\n",
      "Epoch 81/100\n",
      "10/10 [==============================] - 16s 2s/step - loss: 2.4699 - accuracy: 0.2188 - val_loss: 2.9793 - val_accuracy: 0.2188\n",
      "Epoch 82/100\n",
      "10/10 [==============================] - 15s 2s/step - loss: 2.3097 - accuracy: 0.2375 - val_loss: 3.0838 - val_accuracy: 0.1875\n",
      "Epoch 83/100\n",
      "10/10 [==============================] - 15s 2s/step - loss: 2.3985 - accuracy: 0.2500 - val_loss: 3.2487 - val_accuracy: 0.0625\n",
      "Epoch 84/100\n",
      "10/10 [==============================] - 15s 1s/step - loss: 2.4090 - accuracy: 0.2562 - val_loss: 3.5225 - val_accuracy: 0.0938\n",
      "Epoch 85/100\n",
      "10/10 [==============================] - 15s 1s/step - loss: 2.3676 - accuracy: 0.2562 - val_loss: 3.3991 - val_accuracy: 0.1250\n",
      "Epoch 86/100\n",
      "10/10 [==============================] - 15s 2s/step - loss: 2.4740 - accuracy: 0.1813 - val_loss: 3.1669 - val_accuracy: 0.1250\n",
      "Epoch 87/100\n",
      "10/10 [==============================] - 15s 2s/step - loss: 2.4029 - accuracy: 0.2625 - val_loss: 3.3405 - val_accuracy: 0.0938\n",
      "Epoch 88/100\n",
      "10/10 [==============================] - 15s 1s/step - loss: 2.4230 - accuracy: 0.2688 - val_loss: 3.5117 - val_accuracy: 0.1250\n",
      "Epoch 89/100\n",
      "10/10 [==============================] - 15s 2s/step - loss: 2.2324 - accuracy: 0.2750 - val_loss: 3.0400 - val_accuracy: 0.1875\n",
      "Epoch 90/100\n",
      "10/10 [==============================] - 15s 2s/step - loss: 2.3978 - accuracy: 0.2313 - val_loss: 3.1291 - val_accuracy: 0.1562\n",
      "Epoch 91/100\n",
      "10/10 [==============================] - 15s 2s/step - loss: 2.2202 - accuracy: 0.3125 - val_loss: 3.2069 - val_accuracy: 0.1562\n",
      "Epoch 92/100\n",
      "10/10 [==============================] - 15s 1s/step - loss: 2.2925 - accuracy: 0.2937 - val_loss: 3.2582 - val_accuracy: 0.1250\n",
      "Epoch 93/100\n",
      "10/10 [==============================] - 15s 2s/step - loss: 2.3510 - accuracy: 0.2313 - val_loss: 3.6680 - val_accuracy: 0.0312\n",
      "Epoch 94/100\n",
      "10/10 [==============================] - 15s 1s/step - loss: 2.2132 - accuracy: 0.2875 - val_loss: 3.3315 - val_accuracy: 0.2500\n",
      "Epoch 95/100\n",
      "10/10 [==============================] - 15s 1s/step - loss: 2.2756 - accuracy: 0.2688 - val_loss: 3.1811 - val_accuracy: 0.0625\n",
      "Epoch 96/100\n",
      "10/10 [==============================] - 15s 2s/step - loss: 2.1353 - accuracy: 0.3375 - val_loss: 4.6204 - val_accuracy: 0.1562\n",
      "Epoch 97/100\n",
      "10/10 [==============================] - 15s 2s/step - loss: 2.1820 - accuracy: 0.3187 - val_loss: 3.1984 - val_accuracy: 0.0312\n",
      "Epoch 98/100\n",
      "10/10 [==============================] - 15s 2s/step - loss: 2.2971 - accuracy: 0.2812 - val_loss: 3.2386 - val_accuracy: 0.2500\n",
      "Epoch 99/100\n",
      "10/10 [==============================] - 15s 1s/step - loss: 2.3300 - accuracy: 0.2812 - val_loss: 3.5274 - val_accuracy: 0.0625\n",
      "Epoch 100/100\n",
      "10/10 [==============================] - 15s 1s/step - loss: 2.1745 - accuracy: 0.3187 - val_loss: 3.6281 - val_accuracy: 0.0938\n"
     ]
    }
   ],
   "source": [
    "fitted_model = model.fit(training_set,\n",
    "                        steps_per_epoch = 10,\n",
    "                        epochs = 100,\n",
    "                        validation_data = test_set,\n",
    "                        shuffle = 0,\n",
    "                        validation_steps = 2)"
   ]
  },
  {
   "cell_type": "code",
   "execution_count": 51,
   "metadata": {},
   "outputs": [
    {
     "data": {
      "text/plain": [
       "<matplotlib.legend.Legend at 0x1998e258130>"
      ]
     },
     "execution_count": 51,
     "metadata": {},
     "output_type": "execute_result"
    },
    {
     "data": {
      "image/png": "[encoded data removed]",
      "text/plain": [
       "<Figure size 432x288 with 1 Axes>"
      ]
     },
     "metadata": {
      "needs_background": "light"
     },
     "output_type": "display_data"
    }
   ],
   "source": [
    "plt.figure()\n",
    "plt.plot([i for i in range(100)],fitted_model.history['accuracy'], label = \"Train Accuracy\")\n",
    "plt.plot([i for i in range(100)],fitted_model.history['val_accuracy'], label = \"Val Accuracy\")\n",
    "plt.legend()"
   ]
  },
  {
   "cell_type": "code",
   "execution_count": 52,
   "metadata": {},
   "outputs": [
    {
     "data": {
      "text/plain": [
       "<matplotlib.legend.Legend at 0x1998e2b2580>"
      ]
     },
     "execution_count": 52,
     "metadata": {},
     "output_type": "execute_result"
    },
    {
     "data": {
      "image/png": "[encoded data removed]",
      "text/plain": [
       "<Figure size 432x288 with 1 Axes>"
      ]
     },
     "metadata": {
      "needs_background": "light"
     },
     "output_type": "display_data"
    }
   ],
   "source": [
    "plt.figure()\n",
    "plt.plot([i for i in range(100)],fitted_model.history['loss'], label = \"Loss\")\n",
    "plt.plot([i for i in range(100)],fitted_model.history['val_loss'], label = \"Loss\")\n",
    "plt.legend()"
   ]
  },
  {
   "cell_type": "code",
   "execution_count": 53,
   "metadata": {},
   "outputs": [
    {
     "data": {
      "text/plain": [
       "'Dragon'"
      ]
     },
     "execution_count": 53,
     "metadata": {},
     "output_type": "execute_result"
    }
   ],
   "source": [
    "def pred(image_path):\n",
    "    image = Image.open(image_path)\n",
    "    image = image.resize((IMAGE_SIZE,IMAGE_SIZE))\n",
    "    x = np.array(image)\n",
    "    x = np.expand_dims(x,axis=0)\n",
    "    c = np.argmax(model.predict(x), axis=1)\n",
    "    l = os.listdir(DATASET_PATH + '/train')\n",
    "    l.sort()\n",
    "    return l[c[0]]\n",
    "\n",
    "\n",
    "pred(DATASET_PATH + '/train/Dragon/dialga.jpg')"
   ]
  }
 ],
 "metadata": {
  "interpreter": {
   "hash": "877e635d77654b4bbaf40ac73f166c6702f150ac966450346b4e10ac33844dc6"
  },
  "kernelspec": {
   "display_name": "Python 3.9.7 64-bit",
   "language": "python",
   "name": "python3"
  },
  "language_info": {
   "codemirror_mode": {
    "name": "ipython",
    "version": 3
   },
   "file_extension": ".py",
   "mimetype": "text/x-python",
   "name": "python",
   "nbconvert_exporter": "python",
   "pygments_lexer": "ipython3",
   "version": "3.9.7"
  },
  "orig_nbformat": 4
 },
 "nbformat": 4,
 "nbformat_minor": 2
}
