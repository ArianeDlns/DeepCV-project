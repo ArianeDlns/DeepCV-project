{
 "cells": [
  {
   "cell_type": "code",
   "execution_count": 2,
   "metadata": {},
   "outputs": [
    {
     "name": "stdout",
     "output_type": "stream",
     "text": [
      "----------------------------------------------------------------\n",
      "        Layer (type)               Output Shape         Param #\n",
      "================================================================\n",
      "            Conv2d-1         [-1, 64, 256, 256]           2,368\n",
      "              ReLU-2         [-1, 64, 256, 256]               0\n",
      "            Conv2d-3         [-1, 64, 256, 256]          36,928\n",
      "              ReLU-4         [-1, 64, 256, 256]               0\n",
      "       BatchNorm2d-5         [-1, 64, 256, 256]             128\n",
      "            Conv2d-6        [-1, 128, 128, 128]          73,856\n",
      "              ReLU-7        [-1, 128, 128, 128]               0\n",
      "            Conv2d-8        [-1, 128, 128, 128]         147,584\n",
      "              ReLU-9        [-1, 128, 128, 128]               0\n",
      "      BatchNorm2d-10        [-1, 128, 128, 128]             256\n",
      "           Conv2d-11          [-1, 256, 64, 64]         295,168\n",
      "             ReLU-12          [-1, 256, 64, 64]               0\n",
      "           Conv2d-13          [-1, 256, 64, 64]         590,080\n",
      "             ReLU-14          [-1, 256, 64, 64]               0\n",
      "           Conv2d-15          [-1, 256, 64, 64]         590,080\n",
      "             ReLU-16          [-1, 256, 64, 64]               0\n",
      "      BatchNorm2d-17          [-1, 256, 64, 64]             512\n",
      "           Conv2d-18          [-1, 512, 32, 32]       1,180,160\n",
      "             ReLU-19          [-1, 512, 32, 32]               0\n",
      "           Conv2d-20          [-1, 512, 32, 32]       2,359,808\n",
      "             ReLU-21          [-1, 512, 32, 32]               0\n",
      "           Conv2d-22          [-1, 512, 32, 32]       2,359,808\n",
      "             ReLU-23          [-1, 512, 32, 32]               0\n",
      "      BatchNorm2d-24          [-1, 512, 32, 32]           1,024\n",
      "           Conv2d-25          [-1, 512, 32, 32]       2,359,808\n",
      "             ReLU-26          [-1, 512, 32, 32]               0\n",
      "           Conv2d-27          [-1, 512, 32, 32]       2,359,808\n",
      "             ReLU-28          [-1, 512, 32, 32]               0\n",
      "           Conv2d-29          [-1, 512, 32, 32]       2,359,808\n",
      "             ReLU-30          [-1, 512, 32, 32]               0\n",
      "      BatchNorm2d-31          [-1, 512, 32, 32]           1,024\n",
      "           Conv2d-32          [-1, 512, 32, 32]       2,359,808\n",
      "             ReLU-33          [-1, 512, 32, 32]               0\n",
      "           Conv2d-34          [-1, 512, 32, 32]       2,359,808\n",
      "             ReLU-35          [-1, 512, 32, 32]               0\n",
      "           Conv2d-36          [-1, 512, 32, 32]       2,359,808\n",
      "             ReLU-37          [-1, 512, 32, 32]               0\n",
      "      BatchNorm2d-38          [-1, 512, 32, 32]           1,024\n",
      "           Conv2d-39          [-1, 512, 32, 32]       2,359,808\n",
      "             ReLU-40          [-1, 512, 32, 32]               0\n",
      "           Conv2d-41          [-1, 512, 32, 32]       2,359,808\n",
      "             ReLU-42          [-1, 512, 32, 32]               0\n",
      "           Conv2d-43          [-1, 512, 32, 32]       2,359,808\n",
      "             ReLU-44          [-1, 512, 32, 32]               0\n",
      "      BatchNorm2d-45          [-1, 512, 32, 32]           1,024\n",
      "  ConvTranspose2d-46          [-1, 256, 64, 64]       2,097,408\n",
      "           Conv2d-47          [-1, 256, 64, 64]         590,080\n",
      "             ReLU-48          [-1, 256, 64, 64]               0\n",
      "           Conv2d-49          [-1, 256, 64, 64]         590,080\n",
      "             ReLU-50          [-1, 256, 64, 64]               0\n",
      "           Conv2d-51          [-1, 256, 64, 64]         590,080\n",
      "             ReLU-52          [-1, 256, 64, 64]               0\n",
      "      BatchNorm2d-53          [-1, 256, 64, 64]             512\n",
      "  ConvTranspose2d-54        [-1, 128, 128, 128]         524,416\n",
      "           Conv2d-55        [-1, 128, 128, 128]         147,584\n",
      "             ReLU-56        [-1, 128, 128, 128]               0\n",
      "           Conv2d-57        [-1, 128, 128, 128]         147,584\n",
      "             ReLU-58        [-1, 128, 128, 128]               0\n",
      "      BatchNorm2d-59        [-1, 128, 128, 128]             256\n",
      "  ConvTranspose2d-60        [-1, 128, 256, 256]         262,272\n",
      "           Conv2d-61        [-1, 128, 256, 256]          73,856\n",
      "             ReLU-62        [-1, 128, 256, 256]               0\n",
      "           Conv2d-63        [-1, 128, 256, 256]         147,584\n",
      "        LeakyReLU-64        [-1, 128, 256, 256]               0\n",
      "           Conv2d-65          [-1, 2, 256, 256]             258\n",
      "             Tanh-66          [-1, 2, 256, 256]               0\n",
      "  ConvTranspose2d-67        [-1, 128, 128, 128]         524,416\n",
      "           Conv2d-68        [-1, 128, 128, 128]         147,584\n",
      "             ReLU-69        [-1, 128, 128, 128]               0\n",
      "           Conv2d-70        [-1, 128, 128, 128]         147,584\n",
      "             ReLU-71        [-1, 128, 128, 128]               0\n",
      "      BatchNorm2d-72        [-1, 128, 128, 128]             256\n",
      "  ConvTranspose2d-73        [-1, 128, 256, 256]         262,272\n",
      "           Conv2d-74        [-1, 128, 256, 256]          73,856\n",
      "             ReLU-75        [-1, 128, 256, 256]               0\n",
      "           Conv2d-76        [-1, 128, 256, 256]         147,584\n",
      "        LeakyReLU-77        [-1, 128, 256, 256]               0\n",
      "           Conv2d-78          [-1, 2, 256, 256]             258\n",
      "             Tanh-79          [-1, 2, 256, 256]               0\n",
      "================================================================\n",
      "Total params: 35,354,884\n",
      "Trainable params: 35,354,884\n",
      "Non-trainable params: 0\n",
      "----------------------------------------------------------------\n",
      "Input size (MB): 0.25\n",
      "Forward/backward pass size (MB): 1308.00\n",
      "Params size (MB): 134.87\n",
      "Estimated Total Size (MB): 1443.12\n",
      "----------------------------------------------------------------\n"
     ]
    }
   ],
   "source": [
    "import numpy as np\n",
    "import cv2\n",
    "import pandas as pd\n",
    "import matplotlib.pyplot as plt\n",
    "import random\n",
    "from PIL import Image\n",
    "from references.colorization.colorizers import *\n",
    "\n",
    "# load colorizers\n",
    "colorizer_eccv16 = eccv16(pretrained=True).eval()\n",
    "colorizer_siggraph17 = siggraph17(pretrained=True).eval()\n",
    "\n",
    "from torchsummary import summary\n",
    "\n",
    "summary(siggraph17(pretrained=True), (1, 256, 256))"
   ]
  },
  {
   "cell_type": "code",
   "execution_count": 3,
   "metadata": {},
   "outputs": [
    {
     "name": "stderr",
     "output_type": "stream",
     "text": [
      "100%|██████████| 809/809 [00:37<00:00, 21.61it/s]\n"
     ]
    },
    {
     "data": {
      "text/plain": [
       "(809, 224, 224, 3)"
      ]
     },
     "execution_count": 3,
     "metadata": {},
     "output_type": "execute_result"
    }
   ],
   "source": [
    "from tqdm import tqdm\n",
    "# for reading and displaying images\n",
    "from skimage.io import imread\n",
    "from skimage.transform import resize\n",
    "\n",
    "df_poke = pd.read_csv(\"data/pokemon.csv\")\n",
    "df_poke\n",
    "\n",
    "IMAGE_DIR = \"data/pokemon_png\"\n",
    "\n",
    "# loading training images\n",
    "train_img = []\n",
    "for pokemon_name in tqdm(df_poke['Name']):\n",
    "    # defining the image path\n",
    "    image_path = IMAGE_DIR + \"/\" + pokemon_name + \".png\"\n",
    "    # reading the image\n",
    "    img = imread(image_path)\n",
    "    # normalizing the pixel values\n",
    "    img = img/255\n",
    "    # resizing the image to (224,224,3)\n",
    "    img = resize(img, output_shape=(224,224,3), mode='constant', anti_aliasing=True)\n",
    "    # converting the type of pixel to float 32\n",
    "    img = img.astype('float32')\n",
    "    # appending the image into the list\n",
    "    train_img.append(img)\n",
    "\n",
    "# converting the list to numpy array\n",
    "train_x = np.array(train_img)\n",
    "train_x.shape"
   ]
  },
  {
   "cell_type": "code",
   "execution_count": 4,
   "metadata": {},
   "outputs": [
    {
     "data": {
      "text/plain": [
       "<matplotlib.image.AxesImage at 0x14954c7f0>"
      ]
     },
     "execution_count": 4,
     "metadata": {},
     "output_type": "execute_result"
    },
    {
     "data": {
      "image/png": "[encoded data removed]",
      "text/plain": [
       "<Figure size 432x288 with 1 Axes>"
      ]
     },
     "metadata": {
      "needs_background": "light"
     },
     "output_type": "display_data"
    }
   ],
   "source": [
    "# Exploring the data\n",
    "index = 10\n",
    "plt.imshow(train_x[index])"
   ]
  },
  {
   "cell_type": "code",
   "execution_count": null,
   "metadata": {},
   "outputs": [],
   "source": []
  }
 ],
 "metadata": {
  "interpreter": {
   "hash": "0adcc2737ebf6a4a119f135174df96668767fca1ef1112612db5ecadf2b6d608"
  },
  "kernelspec": {
   "display_name": "Python 3.8.10 64-bit",
   "language": "python",
   "name": "python3"
  },
  "language_info": {
   "codemirror_mode": {
    "name": "ipython",
    "version": 3
   },
   "file_extension": ".py",
   "mimetype": "text/x-python",
   "name": "python",
   "nbconvert_exporter": "python",
   "pygments_lexer": "ipython3",
   "version": "3.8.10"
  },
  "orig_nbformat": 4
 },
 "nbformat": 4,
 "nbformat_minor": 2
}
